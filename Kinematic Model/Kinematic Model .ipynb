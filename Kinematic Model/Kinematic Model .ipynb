{
 "cells": [
  {
   "cell_type": "markdown",
   "metadata": {},
   "source": [
    "## **KINEMATIC of a 4 mecanum wheels**\n",
    "\n",
    "### **Omni-differential System:**\n",
    "- Work by applying rotating force of each individual wheel in 1 direction (similar to regular wheels) but different in the fact that they are able to slide freely in different directions\n",
    "- They have series of rollers attached to the hub with (45 degrees) about the hub circumference "
   ]
  },
  {
   "cell_type": "markdown",
   "metadata": {},
   "source": [
    "![alt text](<Screenshot 2024-09-10 185723-1.png>)"
   ]
  },
  {
   "cell_type": "markdown",
   "metadata": {},
   "source": [
    "$ Xg,G,Yg $ &rarr; **Global frame**\n"
   ]
  },
  {
   "cell_type": "markdown",
   "metadata": {},
   "source": [
    "$ X,Y $ &rarr; **Robot position**\n"
   ]
  },
  {
   "cell_type": "markdown",
   "metadata": {},
   "source": [
    "$ \\ominus $ &rarr; **Global frame**\n"
   ]
  },
  {
   "cell_type": "markdown",
   "metadata": {},
   "source": [
    "$ Xr,O,Yr $ &rarr; **Robot local frame**\n"
   ]
  },
  {
   "cell_type": "markdown",
   "metadata": {},
   "source": [
    "$ Si,Pi,Ei $ &rarr; **Coordinate system of $ith$ wheel in the  wheel’s center  point $𝑃𝑖$**\n"
   ]
  },
  {
   "cell_type": "markdown",
   "metadata": {},
   "source": [
    "$ OPi $ &rarr; **Vector that indicates the distance between Robot’s center and the center of the wheel $ 𝑖th $**"
   ]
  },
  {
   "cell_type": "markdown",
   "metadata": {},
   "source": [
    "$ Lix $ &rarr; **Half of the distance between front wheels**"
   ]
  },
  {
   "cell_type": "markdown",
   "metadata": {},
   "source": [
    "$ Liy $ &rarr; **Half of the distance between front wheel and the rear wheels**"
   ]
  },
  {
   "cell_type": "markdown",
   "metadata": {},
   "source": [
    "$ Ri $ &rarr; **Denotes the radius of the wheel $ i $ (Distance of the wheel's center to the roller center)**"
   ]
  },
  {
   "cell_type": "markdown",
   "metadata": {},
   "source": [
    "$ Rr $ &rarr; **Denotes the radius of the rollers on the wheels**"
   ]
  },
  {
   "cell_type": "markdown",
   "metadata": {},
   "source": [
    "$ 𝛼i $ &rarr; **The angle between $ O𝑃𝑖 $ and $ XR $**"
   ]
  },
  {
   "cell_type": "markdown",
   "metadata": {},
   "source": [
    "$ 𝛽i $ &rarr; **The angle between $ Si $ and $ XR $**"
   ]
  },
  {
   "cell_type": "markdown",
   "metadata": {},
   "source": [
    "$ yi $ &rarr; **The angle between $ 𝑣𝑖𝑟 $ and $ 𝐸i $**"
   ]
  },
  {
   "cell_type": "markdown",
   "metadata": {},
   "source": [
    "$  𝜔𝑖 \\ [rad/s] $ &rarr; **Wheels angular velocity**"
   ]
  },
  {
   "cell_type": "markdown",
   "metadata": {},
   "source": [
    "$  𝑣𝑖𝜔 \\ [𝑚/𝑠] $ &rarr;  **(𝑖=0,1,2,3) ∈𝑅 , is the velocity vector corresponding to wheel revolutions**"
   ]
  },
  {
   "cell_type": "markdown",
   "metadata": {},
   "source": [
    "$ 𝑣𝑖 $ &rarr; **The velocity of the passive roller in the wheel $ i $**"
   ]
  },
  {
   "cell_type": "markdown",
   "metadata": {},
   "source": [
    "$  [𝑤𝑠𝑖 \\ We𝑖 \\ ωi ]T  $ &rarr; **Generalized velocity of point 𝑃𝑖  in the frame 𝑆𝑖 𝑃𝑖 𝐸𝑖**"
   ]
  },
  {
   "cell_type": "markdown",
   "metadata": {},
   "source": [
    "$ [𝑣𝑆𝑖 \\ 𝑣e𝑖 \\ ωi ]T $ &rarr; **Generalized velocity of point 𝑃i in the frame $ Xr OYr $**"
   ]
  },
  {
   "cell_type": "markdown",
   "metadata": {},
   "source": [
    "$  𝑣x \\ 𝑣y \\ [m/s] $ &rarr; **Robot linear velocity**"
   ]
  },
  {
   "cell_type": "markdown",
   "metadata": {},
   "source": [
    "$ ωz \\ [rad/s] $ &rarr; **Robot angular velocity**"
   ]
  },
  {
   "cell_type": "markdown",
   "metadata": {},
   "source": [
    "![alt text](<Screenshot 2024-09-10 190407.png>)"
   ]
  },
  {
   "cell_type": "markdown",
   "metadata": {},
   "source": [
    "$ Vir \\ = \\ \\frac{ 1 }{ cos 45 } \\ Rr \\ Wi $  ,  $  WE𝑖 \\ = \\ 𝑟𝑖 \\ Wi $     "
   ]
  },
  {
   "cell_type": "markdown",
   "metadata": {},
   "source": [
    "$ Vsi \\ = \\ Vir \\ SinYi $"
   ]
  },
  {
   "cell_type": "markdown",
   "metadata": {},
   "source": [
    "$ VEi \\ = \\ Wi \\ ri \\ + \\ Vir \\ CosY $"
   ]
  },
  {
   "cell_type": "markdown",
   "metadata": {},
   "source": [
    "\n",
    "\\begin{aligned}\n",
    "\\begin{bmatrix}\n",
    "Vsi \\\\\n",
    "VEI\n",
    "\\end{bmatrix}\n",
    "&= \n",
    "\\begin{bmatrix}\n",
    "0 & SinYi \\\\\n",
    "ri & CosYi\n",
    "\\end{bmatrix}\n",
    "\\begin{bmatrix}\n",
    "Wi \\\\\n",
    "Vir\n",
    "\\end{bmatrix}\n",
    "&= \n",
    "Wi Tpi \\times \n",
    "\\begin{bmatrix}\n",
    "Wi\\\\\n",
    "Vir\n",
    "\\end{bmatrix}\n",
    "\\end{aligned}\n",
    "\n"
   ]
  },
  {
   "cell_type": "markdown",
   "metadata": {},
   "source": [
    "![alt text](<Screenshot 2024-09-11 231237.png>)"
   ]
  },
  {
   "cell_type": "markdown",
   "metadata": {},
   "source": [
    "![alt text](<Screenshot 2024-09-11 231330.png>)"
   ]
  },
  {
   "cell_type": "markdown",
   "metadata": {},
   "source": [
    "\n",
    "\\begin{aligned}\n",
    "\\begin{bmatrix}\n",
    "V_ixr \\\\\n",
    "V_iyr\n",
    "\\end{bmatrix}\n",
    "&= \n",
    "\\begin{bmatrix}\n",
    "cos𝛽_i & -sin𝛽_i \\\\\n",
    "sin𝛽_i & cos𝛽_i\n",
    "\\end{bmatrix}\n",
    "\\begin{bmatrix}\n",
    "V_si \\\\\n",
    "V_Ei\n",
    "\\end{bmatrix}\n",
    "&= \n",
    "Wi T_pi  \\ Pi T_R\\times \n",
    "\\begin{bmatrix}\n",
    "W_i\\\\\n",
    "V_ir\n",
    "\\end{bmatrix}\n",
    "\\end{aligned}\n",
    "\n"
   ]
  },
  {
   "cell_type": "markdown",
   "metadata": {},
   "source": [
    "\n",
    "\\begin{aligned}\n",
    "\n",
    "Pi T_R\n",
    "&= \n",
    "\\begin{bmatrix}\n",
    "cos𝛽i & -sin𝛽i\\\\\n",
    "sin𝛽i & cos𝛽i\n",
    "\\end{bmatrix}\n",
    "\\end{aligned}\n"
   ]
  },
  {
   "cell_type": "markdown",
   "metadata": {},
   "source": [
    "\n",
    "\\begin{aligned}\n",
    "\\begin{bmatrix}\n",
    "V_ixr \\\\\n",
    "V_iyr\n",
    "\\end{bmatrix}\n",
    "&= \n",
    "\\begin{bmatrix}\n",
    "1 & 0 & -l_iy \\\\\n",
    "0 & 1 & l_ix \n",
    "\\end{bmatrix}\n",
    "\\begin{bmatrix}\n",
    "V_x \\\\\n",
    "V_y \\\\\n",
    "w\n",
    "\\end{bmatrix}\n",
    "&= \n",
    "T'\\times \n",
    "\\begin{bmatrix}\n",
    "Vx_r\\\\\n",
    "Vy_r \\\\\n",
    "W_R\n",
    "\\end{bmatrix}\n",
    "\\end{aligned}\n",
    "\n"
   ]
  },
  {
   "cell_type": "markdown",
   "metadata": {},
   "source": [
    "### $ Where $"
   ]
  },
  {
   "cell_type": "markdown",
   "metadata": {},
   "source": [
    "\n",
    "\\begin{aligned}\n",
    "T'\n",
    "&=\n",
    "\\begin{bmatrix}\n",
    "1 & 0 & -l_iy\\\\\n",
    "0 & 1 & l_ix\n",
    "\\end{bmatrix}\n",
    "\\end{aligned}\n",
    "\n"
   ]
  },
  {
   "cell_type": "markdown",
   "metadata": {},
   "source": [
    "\n",
    "\\begin{aligned}\n",
    "Wi \\ T_Pi\n",
    "\\begin{bmatrix}\n",
    "1 & 0 & -l_iy\\\\\n",
    "0 & 1 & l_ix\n",
    "\\end{bmatrix}\n",
    "&=\n",
    "T'\n",
    "\\begin{bmatrix}\n",
    "V_xr \\\\ V_yr \\\\ W_z\n",
    "\\end{bmatrix}\n",
    "\\end{aligned}"
   ]
  },
  {
   "cell_type": "markdown",
   "metadata": {},
   "source": [
    "\\begin{aligned}\n",
    "\\begin{bmatrix}\n",
    "VX_R \\\\\n",
    "VY_R \\\\\n",
    "W_Z\n",
    "\\end{bmatrix}\n",
    "&= \n",
    "T^+\\times \n",
    "\\begin{bmatrix}\n",
    "W_i\\\\\n",
    "V_ir \\\\\n",
    "\\end{bmatrix}\n",
    "\\end{aligned}"
   ]
  },
  {
   "cell_type": "markdown",
   "metadata": {},
   "source": [
    "\\begin{aligned}\n",
    "\\begin{bmatrix}\n",
    "W_i \\\\\n",
    "Vi_r\n",
    "\\end{bmatrix}\n",
    "&= \n",
    "T\\times \n",
    "\\begin{bmatrix}\n",
    "V_xr\\\\\n",
    "V_yr \\\\\n",
    "W_r\n",
    "\\end{bmatrix}\n",
    "\\end{aligned}"
   ]
  },
  {
   "cell_type": "markdown",
   "metadata": {},
   "source": [
    "\\begin{aligned}\n",
    "T\n",
    "&=  \n",
    "\\begin{bmatrix}\n",
    "Cos𝛽_i & -sin𝛽_i\\\\\n",
    "sin𝛽_i &  Cos𝛽_i\n",
    "\\end{bmatrix}^- \n",
    "\\begin{bmatrix}\n",
    "0 & -sinY_i\\\\\n",
    "r_i &  CosY_i\n",
    "\\end{bmatrix}^-\n",
    "\\begin{bmatrix}\n",
    "1 & -0 & -l_iy\\\\\n",
    "0 &  1 & l_ix\\\\\n",
    "\\end{bmatrix}\n",
    "\\end{aligned}"
   ]
  },
  {
   "cell_type": "markdown",
   "metadata": {},
   "source": [
    "![alt text](<Screenshot 2024-09-11 230927.png>)"
   ]
  },
  {
   "cell_type": "markdown",
   "metadata": {},
   "source": [
    "\\begin{aligned}\n",
    "\\begin{bmatrix}\n",
    "W_1\\\\\n",
    "W_2\\\\\n",
    "W_3\\\\\n",
    "W_4\n",
    "\\end{bmatrix}\n",
    "&=\n",
    "-1/r \\times\n",
    "T\n",
    "\\begin{bmatrix}\n",
    "V_x\\\\\n",
    "V_y\\\\\n",
    "W_z\n",
    "\\end{bmatrix}\n",
    "\\end{aligned}"
   ]
  },
  {
   "cell_type": "markdown",
   "metadata": {},
   "source": [
    "\\begin{aligned}\n",
    "\\begin{bmatrix}\n",
    "V_x\\\\\n",
    "V_y\\\\\n",
    "W_z\n",
    "\\end{bmatrix}\n",
    "&=\n",
    "T^+\\times\n",
    "\\begin{bmatrix}\n",
    "W_1\\\\\n",
    "W_2\\\\\n",
    "W_3\\\\\n",
    "W_4\n",
    "\\end{bmatrix}\n",
    "\\end{aligned}"
   ]
  }
 ],
 "metadata": {
  "kernelspec": {
   "display_name": "Python 3",
   "language": "python",
   "name": "python3"
  },
  "language_info": {
   "codemirror_mode": {
    "name": "ipython",
    "version": 3
   },
   "file_extension": ".py",
   "mimetype": "text/x-python",
   "name": "python",
   "nbconvert_exporter": "python",
   "pygments_lexer": "ipython3",
   "version": "3.11.7"
  }
 },
 "nbformat": 4,
 "nbformat_minor": 2
}
