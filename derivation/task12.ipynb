{
 "cells": [
  {
   "cell_type": "markdown",
   "metadata": {},
   "source": [
    "## **KINEMATICS OF DIFFERENTIAL**"
   ]
  },
  {
   "cell_type": "markdown",
   "metadata": {},
   "source": [
    "\n",
    "To control the TurtleBot using a PID controller effectively, it's important to understand the kinematic model, which describes how the robot moves based on its inputs (linear and angular velocities). The kinematic model will serve as the foundation for implementing the control strategy in the PID controller.These robots are commonly used in various applications, including mobile robots, robotic platforms, and even some types of robotic vehicles."
   ]
  },
  {
   "cell_type": "markdown",
   "metadata": {},
   "source": [
    " **Here are the key components of the kinematics of a differential robot:**\n",
    "\n",
    "Wheel Velocities (Vl and Vr):\n",
    "\n",
    "Vl represents the linear velocity of the left wheel.\n",
    "\n",
    "Vr represents the linear velocity of the right wheel.\n",
    "\n",
    "Robot's Linear Velocity (V):\n",
    "\n",
    " $V = (Vl + Vr) / 2 $\n",
    "\n",
    "Robot's Angular Velocity (ω):\n",
    "\n",
    "$ω = (Vr - Vl) $\n",
    "\n",
    "Robot's Position and Orientation (x, y, θ):\n",
    "\n",
    "\n",
    "The robot's position (x, y) in a global coordinate system is determined by integrating its linear velocity over time. The orientation (θ) is determined by integrating its angular velocity.\n",
    "\n",
    "$ x(t+Δt) = x(t) + V * cos(θ) * Δt $\n",
    "\n",
    "$ y(t+Δt) = y(t) + V * sin(θ) * Δt $\n",
    "\n",
    "$ θ(t+Δt) = θ(t) + ω * Δt $\n",
    "\n",
    "These equations allow you to compute how a differential drive robot's position and orientation change as it moves with specified wheel velocities. "
   ]
  },
  {
   "cell_type": "markdown",
   "metadata": {},
   "source": [
    "### Two differential wheel robot\n",
    "\n",
    "\n"
   ]
  },
  {
   "cell_type": "markdown",
   "metadata": {},
   "source": [
    "![Alt text](<two_kinematics_schame.png>)"
   ]
  },
  {
   "cell_type": "markdown",
   "metadata": {},
   "source": [
    " $w . (R + b/2) = Vr$ \n",
    "\n",
    " $ω . (R - b/2) = Vr$\n",
    "\n",
    " **subtraction of eqn 1 and 2**\n",
    "\n",
    " $ω = (Vr - Vl)/b$\n",
    " \n",
    " **addition of eqn 1 and 2**\n",
    " \n",
    " $R=b/2 . (Vr+Vl)/(Vr-Vl)$\n"
   ]
  },
  {
   "cell_type": "markdown",
   "metadata": {},
   "source": [
    "### frames"
   ]
  },
  {
   "cell_type": "markdown",
   "metadata": {},
   "source": [
    "**local frame**\n",
    "\n",
    "A local frame (or local coordinate system) is a coordinate system attached to an object or a specific reference point, often used to describe the position and orientation of the object within a larger global frame."
   ]
  },
  {
   "cell_type": "markdown",
   "metadata": {},
   "source": [
    "$ Vx = w . R = vr + vl /2 $\n",
    "\n",
    "$Vy = 0 $\n",
    "\n",
    "$w = (Vr - Vl)/b$"
   ]
  },
  {
   "cell_type": "markdown",
   "metadata": {},
   "source": [
    "**global frame**\n",
    "\n",
    "A global frame (or global coordinate system) is typically a fixed reference frame in which the positions and orientations of other frames (or objects) are measured"
   ]
  },
  {
   "cell_type": "markdown",
   "metadata": {},
   "source": [
    "**from local to global**\n"
   ]
  },
  {
   "cell_type": "markdown",
   "metadata": {},
   "source": [
    "![Alt text](<local_to_global.png>)"
   ]
  },
  {
   "cell_type": "markdown",
   "metadata": {},
   "source": [
    "**Rotation Matrix**\n",
    "\n",
    "multiplication of matrices to convert local frame to global frame"
   ]
  },
  {
   "cell_type": "markdown",
   "metadata": {},
   "source": [
    "\\begin{aligned}\n",
    "\n",
    "R(\\ominus)\n",
    "&= \n",
    "\\begin{bmatrix}\n",
    "cos(\\ominus) & -sin(\\ominus) & 0 \\\\\n",
    "sin(\\ominus) & cos(\\ominus) & 0\\\\\n",
    "0 & 0 & 1 \\\\\n",
    "\\end{bmatrix}\n",
    "\n",
    "\\begin{bmatrix}\n",
    "Vx\\\\\n",
    "Vy\\\\\n",
    "w\n",
    "\\end{bmatrix}\n",
    "&=\n",
    "\\end{aligned}\n"
   ]
  },
  {
   "cell_type": "markdown",
   "metadata": {},
   "source": [
    "$Vgx = Vlx * cos(\\ominus) - Vly *sin(\\ominus) $\n",
    "\n",
    "$Vgy = Vlx * sin(\\ominus) + Vly *cos(\\ominus) $\n",
    "\n",
    "$w=w$"
   ]
  },
  {
   "cell_type": "markdown",
   "metadata": {},
   "source": [
    "\n",
    "\\begin{aligned}\n",
    "\\begin{bmatrix}\n",
    "w_1 \\\\\n",
    "w_2 \\\\\n",
    "\n",
    "\\end{bmatrix}\n",
    "&\\rightarrow\n",
    "\n",
    "\\begin{bmatrix}\n",
    "V_x \\\\\n",
    "V_y \\\\\n",
    "w\n",
    "\\end{bmatrix} \n",
    "\\end{aligned}\n",
    "\n",
    "\n"
   ]
  },
  {
   "cell_type": "markdown",
   "metadata": {},
   "source": [
    "$ Vx = w . R = vr + vl /2 $\n",
    "\n",
    "$Vy = 0 $\n",
    "\n",
    "$w = (Vr - Vl)/b$"
   ]
  }
 ],
 "metadata": {
  "kernelspec": {
   "display_name": "Python 3",
   "language": "python",
   "name": "python3"
  },
  "language_info": {
   "codemirror_mode": {
    "name": "ipython",
    "version": 3
   },
   "file_extension": ".py",
   "mimetype": "text/x-python",
   "name": "python",
   "nbconvert_exporter": "python",
   "pygments_lexer": "ipython3",
   "version": "3.12.4"
  }
 },
 "nbformat": 4,
 "nbformat_minor": 2
}
